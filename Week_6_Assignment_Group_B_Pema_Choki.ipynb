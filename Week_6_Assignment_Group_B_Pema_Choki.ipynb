{
  "nbformat": 4,
  "nbformat_minor": 0,
  "metadata": {
    "colab": {
      "provenance": [],
      "authorship_tag": "ABX9TyP9TBS4zzFActaPL64Cx68U",
      "include_colab_link": true
    },
    "kernelspec": {
      "name": "python3",
      "display_name": "Python 3"
    },
    "language_info": {
      "name": "python"
    }
  },
  "cells": [
    {
      "cell_type": "markdown",
      "metadata": {
        "id": "view-in-github",
        "colab_type": "text"
      },
      "source": [
        "<a href=\"https://colab.research.google.com/github/pchoki/AI-Skills-Development/blob/main/Week_6_Assignment_Group_B_Pema_Choki.ipynb\" target=\"_parent\"><img src=\"https://colab.research.google.com/assets/colab-badge.svg\" alt=\"Open In Colab\"/></a>"
      ]
    },
    {
      "cell_type": "code",
      "execution_count": 1,
      "metadata": {
        "colab": {
          "base_uri": "https://localhost:8080/"
        },
        "id": "D81afoCyYMWn",
        "outputId": "59ffbebc-b6f1-442d-8248-6abfed71445e"
      },
      "outputs": [
        {
          "output_type": "stream",
          "name": "stdout",
          "text": [
            "Enter your age: 17\n",
            "Your ticket price is 500\n"
          ]
        }
      ],
      "source": [
        "#Assignment 1: Cinema Ticket Pricing\n",
        "\n",
        "import datetime\n",
        "\n",
        "# Ask for age\n",
        "age = int(input(\"Enter your age: \"))\n",
        "\n",
        "# Decide price based on age\n",
        "if age < 12:\n",
        "    price = 300\n",
        "elif 12 <= age <= 17:\n",
        "    price = 500\n",
        "elif 18 <= age <= 59:\n",
        "    price = 800\n",
        "else:\n",
        "    price = 400\n",
        "\n",
        "# Extra challenge: Wednesday discount\n",
        "today = datetime.datetime.today().strftime(\"%A\")\n",
        "if today == \"Wednesday\":\n",
        "    price -= 100\n",
        "\n",
        "print(f\"Your ticket price is {price}\")"
      ]
    },
    {
      "cell_type": "code",
      "source": [
        "#Assignment 2: Number Guessing Game\n",
        "secret_number = 7  # fixed secret number\n",
        "guess = None\n",
        "\n",
        "while guess != secret_number:\n",
        "    guess = int(input(\"Guess the number: \"))\n",
        "    if guess == secret_number:\n",
        "        print(\"Congratulations! You guessed correctly\")"
      ],
      "metadata": {
        "colab": {
          "base_uri": "https://localhost:8080/"
        },
        "id": "_P4pSBHbYx4U",
        "outputId": "9c24e9e4-280c-4354-ddcd-3ecf0ecb2208"
      },
      "execution_count": 2,
      "outputs": [
        {
          "output_type": "stream",
          "name": "stdout",
          "text": [
            "Guess the number: 7\n",
            "Congratulations! You guessed correctly\n"
          ]
        }
      ]
    },
    {
      "cell_type": "code",
      "source": [
        "#Assignment 3\n",
        "def greet(name, message):\n",
        "    print(f\"{message}, {name}!\")\n",
        "\n",
        "# Using keyword arguments\n",
        "greet(name=\"Alice\", message=\"Good morning\")\n",
        "greet(message=\"Hello\", name=\"Bob\")"
      ],
      "metadata": {
        "colab": {
          "base_uri": "https://localhost:8080/"
        },
        "id": "N0QrXpulY6t2",
        "outputId": "6284f933-8a57-4a56-8ace-0d53e7033085"
      },
      "execution_count": 4,
      "outputs": [
        {
          "output_type": "stream",
          "name": "stdout",
          "text": [
            "Good morning, Alice!\n",
            "Hello, Bob!\n"
          ]
        }
      ]
    },
    {
      "cell_type": "code",
      "source": [
        "#Assignment 4: Student Grade Calculator\n",
        "# Define function\n",
        "def calculate_grade(marks):\n",
        "    if 90 <= marks <= 100:\n",
        "        return \"A\"\n",
        "    elif 80 <= marks <= 89:\n",
        "        return \"B\"\n",
        "    elif 70 <= marks <= 79:\n",
        "        return \"C\"\n",
        "    elif 60 <= marks <= 69:\n",
        "        return \"D\"\n",
        "    else:\n",
        "        return \"Failed\"\n",
        "\n",
        "# Ask for marks\n",
        "marks = int(input(\"Enter your marks (0-100): \"))\n",
        "\n",
        "# Call function and print result\n",
        "grade = calculate_grade(marks)\n",
        "print(f\"Your grade is: {grade}\")"
      ],
      "metadata": {
        "colab": {
          "base_uri": "https://localhost:8080/"
        },
        "id": "zTh404rpY7CN",
        "outputId": "dc2fa9a9-d143-44a6-b31f-aa758c07a9c0"
      },
      "execution_count": 3,
      "outputs": [
        {
          "output_type": "stream",
          "name": "stdout",
          "text": [
            "Enter your marks (0-100): 80\n",
            "Your grade is: B\n"
          ]
        }
      ]
    }
  ]
}