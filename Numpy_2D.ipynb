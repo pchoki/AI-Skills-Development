{
  "metadata": {
    "kernelspec": {
      "name": "python",
      "display_name": "Python (Pyodide)",
      "language": "python"
    },
    "language_info": {
      "codemirror_mode": {
        "name": "python",
        "version": 3
      },
      "file_extension": ".py",
      "mimetype": "text/x-python",
      "name": "python",
      "nbconvert_exporter": "python",
      "pygments_lexer": "ipython3",
      "version": "3.8"
    },
    "colab": {
      "provenance": [],
      "include_colab_link": true
    }
  },
  "nbformat_minor": 0,
  "nbformat": 4,
  "cells": [
    {
      "cell_type": "markdown",
      "metadata": {
        "id": "view-in-github",
        "colab_type": "text"
      },
      "source": [
        "<a href=\"https://colab.research.google.com/github/pchoki/AI-Skills-Development/blob/main/Numpy_2D.ipynb\" target=\"_parent\"><img src=\"https://colab.research.google.com/assets/colab-badge.svg\" alt=\"Open In Colab\"/></a>"
      ]
    },
    {
      "cell_type": "markdown",
      "source": [
        "# 2D Numpy in Python\n",
        "\n",
        "\n",
        "Estimated time needed: **30** minutes\n",
        "    \n",
        "\n",
        "## Objectives\n",
        "\n",
        "After completing this lab you will be able to:\n",
        "\n",
        "* Operate comfortably with `numpy`\n",
        "* Perform complex operations with `numpy`\n"
      ],
      "metadata": {
        "id": "4dS-VbNgW5_A"
      }
    },
    {
      "cell_type": "markdown",
      "source": [
        "<h2>Table of Contents</h2>\n",
        "<div class=\"alert alert-block alert-info\" style=\"margin-top: 20px\">\n",
        "    <ul>\n",
        "        <li><a href=\"#Create-a-2D-Numpy-Array\">Create a 2D Numpy Array</a></li>\n",
        "        <li><a href=\"#Accessing-different-elements-of-a-Numpy-Array\">Accessing different elements of a Numpy Array</a></li>\n",
        "        <li><a href=\"#Basic-Operations\">Basic Operations</a></li>\n",
        "    </ul>\n",
        "  \n",
        "</div>\n",
        "\n",
        "<hr>\n"
      ],
      "metadata": {
        "id": "uSLznjCJW5_D"
      }
    },
    {
      "cell_type": "markdown",
      "source": [
        "## Create a 2D Numpy Array\n"
      ],
      "metadata": {
        "id": "e2lPGi3oW5_E"
      }
    },
    {
      "cell_type": "code",
      "source": [
        "# Import the libraries\n",
        "\n",
        "import numpy as np"
      ],
      "metadata": {
        "trusted": true,
        "id": "EJHmAGNJW5_E"
      },
      "outputs": [],
      "execution_count": 1
    },
    {
      "cell_type": "markdown",
      "source": [
        "Consider the list <code>a</code>, which contains three nested lists **each of equal size**.\n"
      ],
      "metadata": {
        "id": "eaun6MhPW5_G"
      }
    },
    {
      "cell_type": "code",
      "source": [
        "# Create a list\n",
        "\n",
        "a = [[11, 12, 13], [21, 22, 23], [31, 32, 33]]\n",
        "a"
      ],
      "metadata": {
        "trusted": true,
        "colab": {
          "base_uri": "https://localhost:8080/"
        },
        "id": "3-xu-IgVW5_G",
        "outputId": "1c6e44b6-ef69-4653-df4f-61a5a58c9628"
      },
      "outputs": [
        {
          "output_type": "execute_result",
          "data": {
            "text/plain": [
              "[[11, 12, 13], [21, 22, 23], [31, 32, 33]]"
            ]
          },
          "metadata": {},
          "execution_count": 2
        }
      ],
      "execution_count": 2
    },
    {
      "cell_type": "markdown",
      "source": [
        "We can cast the list to a Numpy Array as follows:\n"
      ],
      "metadata": {
        "id": "dN1pakI_W5_H"
      }
    },
    {
      "cell_type": "code",
      "source": [
        "# Convert list to Numpy Array\n",
        "# Every element is the same type\n",
        "\n",
        "A = np.array(a)\n",
        "A"
      ],
      "metadata": {
        "trusted": true,
        "colab": {
          "base_uri": "https://localhost:8080/"
        },
        "id": "eOC5WeSIW5_H",
        "outputId": "3f030cc3-7fd0-491b-cb3e-f379c1e68749"
      },
      "outputs": [
        {
          "output_type": "execute_result",
          "data": {
            "text/plain": [
              "array([[11, 12, 13],\n",
              "       [21, 22, 23],\n",
              "       [31, 32, 33]])"
            ]
          },
          "metadata": {},
          "execution_count": 3
        }
      ],
      "execution_count": 3
    },
    {
      "cell_type": "markdown",
      "source": [
        "We can use the attribute <code>ndim</code> to obtain the number of axes or dimensions, referred to as the rank.\n"
      ],
      "metadata": {
        "id": "afe-oODuW5_H"
      }
    },
    {
      "cell_type": "code",
      "source": [
        "# Show the numpy array dimensions\n",
        "\n",
        "A.ndim"
      ],
      "metadata": {
        "trusted": true,
        "colab": {
          "base_uri": "https://localhost:8080/"
        },
        "id": "6MDf5UiIW5_H",
        "outputId": "1951a54b-21af-491f-accc-3464f53fbf05"
      },
      "outputs": [
        {
          "output_type": "execute_result",
          "data": {
            "text/plain": [
              "2"
            ]
          },
          "metadata": {},
          "execution_count": 4
        }
      ],
      "execution_count": 4
    },
    {
      "cell_type": "markdown",
      "source": [
        "Attribute <code>shape</code> returns a tuple corresponding to the size or number of each dimension.\n"
      ],
      "metadata": {
        "id": "eqx2y1JFW5_I"
      }
    },
    {
      "cell_type": "code",
      "source": [
        "# Show the numpy array shape\n",
        "\n",
        "A.shape"
      ],
      "metadata": {
        "trusted": true,
        "colab": {
          "base_uri": "https://localhost:8080/"
        },
        "id": "GVZMaDNrW5_I",
        "outputId": "056eca07-552f-48ec-fca2-92a41a2cc143"
      },
      "outputs": [
        {
          "output_type": "execute_result",
          "data": {
            "text/plain": [
              "(3, 3)"
            ]
          },
          "metadata": {},
          "execution_count": 5
        }
      ],
      "execution_count": 5
    },
    {
      "cell_type": "markdown",
      "source": [
        "The total number of elements in the array is given by the attribute <code>size</code>.\n"
      ],
      "metadata": {
        "id": "zK_6EX4_W5_I"
      }
    },
    {
      "cell_type": "code",
      "source": [
        "# Show the numpy array size\n",
        "\n",
        "A.size"
      ],
      "metadata": {
        "trusted": true,
        "colab": {
          "base_uri": "https://localhost:8080/"
        },
        "id": "LY_-SeNRW5_J",
        "outputId": "1e21101b-d59f-4e61-cba6-e2ca45d87f86"
      },
      "outputs": [
        {
          "output_type": "execute_result",
          "data": {
            "text/plain": [
              "9"
            ]
          },
          "metadata": {},
          "execution_count": 6
        }
      ],
      "execution_count": 6
    },
    {
      "cell_type": "markdown",
      "source": [
        "<hr>\n"
      ],
      "metadata": {
        "id": "VPDwKoaOW5_J"
      }
    },
    {
      "cell_type": "markdown",
      "source": [
        "## Accessing different elements of a Numpy Array\n"
      ],
      "metadata": {
        "id": "VNmj_oTxW5_J"
      }
    },
    {
      "cell_type": "markdown",
      "source": [
        "We can use rectangular brackets to access the different elements of the array. The correspondence between the rectangular brackets and the list and the rectangular representation is shown in the following figure for a 3x3 array:  \n"
      ],
      "metadata": {
        "id": "JyBpGsdSW5_J"
      }
    },
    {
      "cell_type": "markdown",
      "source": [
        "<img src=\"https://cf-courses-data.s3.us.cloud-object-storage.appdomain.cloud/IBMDeveloperSkillsNetwork-PY0101EN-SkillsNetwork/labs/Module%205/images/NumTwoEg.png\" width=\"500\">\n"
      ],
      "metadata": {
        "id": "H6aSx4aRW5_J"
      }
    },
    {
      "cell_type": "markdown",
      "source": [
        "We can access the 2nd-row, 3rd column as shown in the following figure:\n"
      ],
      "metadata": {
        "id": "1cAjLteJW5_K"
      }
    },
    {
      "cell_type": "markdown",
      "source": [
        "<img src=\"https://cf-courses-data.s3.us.cloud-object-storage.appdomain.cloud/IBMDeveloperSkillsNetwork-PY0101EN-SkillsNetwork/labs/Module%205/images/NumTwoFT.png\" width=\"400\">\n"
      ],
      "metadata": {
        "id": "ChcMnavSW5_K"
      }
    },
    {
      "cell_type": "markdown",
      "source": [
        " We simply use the square brackets and the indices corresponding to the element we would like:\n"
      ],
      "metadata": {
        "id": "so1mvdatW5_K"
      }
    },
    {
      "cell_type": "code",
      "source": [
        "# Access the element on the second row and third column\n",
        "\n",
        "A[1, 2]"
      ],
      "metadata": {
        "trusted": true,
        "colab": {
          "base_uri": "https://localhost:8080/"
        },
        "id": "aiOmcPdZW5_K",
        "outputId": "6f6145cd-bc1d-4c95-fa15-3b98cab09188"
      },
      "outputs": [
        {
          "output_type": "execute_result",
          "data": {
            "text/plain": [
              "np.int64(23)"
            ]
          },
          "metadata": {},
          "execution_count": 7
        }
      ],
      "execution_count": 7
    },
    {
      "cell_type": "markdown",
      "source": [
        " We can also use the following notation to obtain the elements:\n"
      ],
      "metadata": {
        "id": "aPtrs1SSW5_K"
      }
    },
    {
      "cell_type": "code",
      "source": [
        "A[1]"
      ],
      "metadata": {
        "colab": {
          "base_uri": "https://localhost:8080/"
        },
        "id": "8SIC648tuHeD",
        "outputId": "161685a1-4ffe-4ab2-8e02-02e36e2c3b8a"
      },
      "execution_count": 8,
      "outputs": [
        {
          "output_type": "execute_result",
          "data": {
            "text/plain": [
              "array([21, 22, 23])"
            ]
          },
          "metadata": {},
          "execution_count": 8
        }
      ]
    },
    {
      "cell_type": "code",
      "source": [
        "# Access the elements on the second row first, then get the third element\n",
        "\n",
        "A[1][2]"
      ],
      "metadata": {
        "trusted": true,
        "colab": {
          "base_uri": "https://localhost:8080/"
        },
        "id": "-r3PeqpqW5_L",
        "outputId": "655d91a4-c696-469a-c308-1f9d7ad23394"
      },
      "outputs": [
        {
          "output_type": "execute_result",
          "data": {
            "text/plain": [
              "np.int64(23)"
            ]
          },
          "metadata": {},
          "execution_count": 9
        }
      ],
      "execution_count": 9
    },
    {
      "cell_type": "markdown",
      "source": [
        " Consider the elements shown in the following figure\n"
      ],
      "metadata": {
        "id": "CSXs6K5GW5_L"
      }
    },
    {
      "cell_type": "markdown",
      "source": [
        "<img src=\"https://cf-courses-data.s3.us.cloud-object-storage.appdomain.cloud/IBMDeveloperSkillsNetwork-PY0101EN-SkillsNetwork/labs/Module%205/images/NumTwoFF.png\" width=\"400\">\n"
      ],
      "metadata": {
        "id": "pwsg9x96W5_L"
      }
    },
    {
      "cell_type": "markdown",
      "source": [
        "We can access the element as follows:\n"
      ],
      "metadata": {
        "id": "AgJk8wqWW5_L"
      }
    },
    {
      "cell_type": "code",
      "source": [
        "# Access the element on the first row and first column\n",
        "\n",
        "A[0][0]"
      ],
      "metadata": {
        "trusted": true,
        "colab": {
          "base_uri": "https://localhost:8080/"
        },
        "id": "Yuw9kIM-W5_M",
        "outputId": "aebf737a-cc5b-4875-d1fa-bee7ed5a4be2"
      },
      "outputs": [
        {
          "output_type": "execute_result",
          "data": {
            "text/plain": [
              "np.int64(11)"
            ]
          },
          "metadata": {},
          "execution_count": 10
        }
      ],
      "execution_count": 10
    },
    {
      "cell_type": "markdown",
      "source": [
        "We can also use slicing in numpy arrays. Consider the following figure. We would like to obtain the first two columns in the first row\n"
      ],
      "metadata": {
        "id": "MIRTucUuW5_M"
      }
    },
    {
      "cell_type": "markdown",
      "source": [
        "<img src=\"https://cf-courses-data.s3.us.cloud-object-storage.appdomain.cloud/IBMDeveloperSkillsNetwork-PY0101EN-SkillsNetwork/labs/Module%205/images/NumTwoFSF.png\" width=\"400\">\n"
      ],
      "metadata": {
        "id": "PWOT93grW5_M"
      }
    },
    {
      "cell_type": "markdown",
      "source": [
        " This can be done with the following syntax:\n"
      ],
      "metadata": {
        "id": "wlvFTGjHW5_N"
      }
    },
    {
      "cell_type": "code",
      "source": [
        "# Access the element on the first row and first and second columns\n",
        "\n",
        "A[0][0:2]"
      ],
      "metadata": {
        "trusted": true,
        "colab": {
          "base_uri": "https://localhost:8080/"
        },
        "id": "15f_wFgVW5_N",
        "outputId": "ffb88a67-3696-47a3-a50e-106f34e58667"
      },
      "outputs": [
        {
          "output_type": "execute_result",
          "data": {
            "text/plain": [
              "array([11, 12])"
            ]
          },
          "metadata": {},
          "execution_count": 11
        }
      ],
      "execution_count": 11
    },
    {
      "cell_type": "markdown",
      "source": [
        "Similarly, we can obtain the first two rows of the 3rd column as follows:\n"
      ],
      "metadata": {
        "id": "hyOsgDASW5_N"
      }
    },
    {
      "cell_type": "code",
      "source": [
        "# Access the element on the first and second rows and third column\n",
        "\n",
        "A[0:2, 2]"
      ],
      "metadata": {
        "trusted": true,
        "colab": {
          "base_uri": "https://localhost:8080/"
        },
        "id": "9MDyaRJdW5_O",
        "outputId": "1159b24e-0e40-4a1a-979d-e7058225a363"
      },
      "outputs": [
        {
          "output_type": "execute_result",
          "data": {
            "text/plain": [
              "array([13, 23])"
            ]
          },
          "metadata": {},
          "execution_count": 12
        }
      ],
      "execution_count": 12
    },
    {
      "cell_type": "markdown",
      "source": [
        "Corresponding to the following figure:\n"
      ],
      "metadata": {
        "id": "5bl1Sly2W5_O"
      }
    },
    {
      "cell_type": "markdown",
      "source": [
        "<img src=\"https://cf-courses-data.s3.us.cloud-object-storage.appdomain.cloud/IBMDeveloperSkillsNetwork-PY0101EN-SkillsNetwork/labs/Module%205/images/2D_numpy.png\" width=\"400\"><br />\n"
      ],
      "metadata": {
        "id": "iRKrwBg4W5_O"
      }
    },
    {
      "cell_type": "markdown",
      "source": [
        "## Basic Operations\n"
      ],
      "metadata": {
        "id": "vxKPGw4rW5_P"
      }
    },
    {
      "cell_type": "markdown",
      "source": [
        "We can also add arrays. The process is identical to matrix addition. Matrix addition of <code>X</code> and <code>Y</code> is shown in the following figure:\n"
      ],
      "metadata": {
        "id": "dX3YQdt3W5_P"
      }
    },
    {
      "cell_type": "markdown",
      "source": [
        "<img src=\"https://cf-courses-data.s3.us.cloud-object-storage.appdomain.cloud/IBMDeveloperSkillsNetwork-PY0101EN-SkillsNetwork/labs/Module%205/images/NumTwoAdd.png\" width=\"500\">\n"
      ],
      "metadata": {
        "id": "ze31O1ISW5_P"
      }
    },
    {
      "cell_type": "markdown",
      "source": [
        "The numpy array is given by <code>X</code> and <code>Y</code>\n"
      ],
      "metadata": {
        "id": "63QzgNJHW5_U"
      }
    },
    {
      "cell_type": "code",
      "source": [
        "# Create a numpy array X\n",
        "\n",
        "X = np.array([[1, 0], [0, 1]])\n",
        "X"
      ],
      "metadata": {
        "trusted": true,
        "colab": {
          "base_uri": "https://localhost:8080/"
        },
        "id": "-mG5DdfgW5_U",
        "outputId": "ff42a42e-5d35-43c3-e3af-e40b4a06fa31"
      },
      "outputs": [
        {
          "output_type": "execute_result",
          "data": {
            "text/plain": [
              "array([[1, 0],\n",
              "       [0, 1]])"
            ]
          },
          "metadata": {},
          "execution_count": 13
        }
      ],
      "execution_count": 13
    },
    {
      "cell_type": "code",
      "source": [
        "# Create a numpy array Y\n",
        "\n",
        "Y = np.array([[2, 1], [1, 2]])\n",
        "Y"
      ],
      "metadata": {
        "trusted": true,
        "colab": {
          "base_uri": "https://localhost:8080/"
        },
        "id": "OTcZdyQAW5_V",
        "outputId": "7f20e243-e15f-4fe5-c267-c65bf56ecceb"
      },
      "outputs": [
        {
          "output_type": "execute_result",
          "data": {
            "text/plain": [
              "array([[2, 1],\n",
              "       [1, 2]])"
            ]
          },
          "metadata": {},
          "execution_count": 14
        }
      ],
      "execution_count": 14
    },
    {
      "cell_type": "markdown",
      "source": [
        " We can add the numpy arrays as follows.\n"
      ],
      "metadata": {
        "id": "dIYRv4MrW5_X"
      }
    },
    {
      "cell_type": "code",
      "source": [
        "# Add X and Y\n",
        "\n",
        "Z = X + Y\n",
        "Z"
      ],
      "metadata": {
        "trusted": true,
        "colab": {
          "base_uri": "https://localhost:8080/"
        },
        "id": "lplu5GIOW5_X",
        "outputId": "344ef113-f31a-4088-937e-6926daa2ebb6"
      },
      "outputs": [
        {
          "output_type": "execute_result",
          "data": {
            "text/plain": [
              "array([[3, 1],\n",
              "       [1, 3]])"
            ]
          },
          "metadata": {},
          "execution_count": 15
        }
      ],
      "execution_count": 15
    },
    {
      "cell_type": "markdown",
      "source": [
        "Multiplying a numpy array by a scaler is identical to multiplying a matrix by a scaler. If we multiply the matrix <code>Y</code> by the scaler 2, we simply multiply every element in the matrix by 2, as shown in the figure.\n"
      ],
      "metadata": {
        "id": "VxE1P6WCW5_X"
      }
    },
    {
      "cell_type": "markdown",
      "source": [
        "<img src=\"https://cf-courses-data.s3.us.cloud-object-storage.appdomain.cloud/IBMDeveloperSkillsNetwork-PY0101EN-SkillsNetwork/labs/Module%205/images/NumTwoDb.png\" width=\"500\">\n"
      ],
      "metadata": {
        "id": "mrshvir1W5_X"
      }
    },
    {
      "cell_type": "markdown",
      "source": [
        "We can perform the same operation in numpy as follows\n"
      ],
      "metadata": {
        "id": "Uhghh1WNW5_Y"
      }
    },
    {
      "cell_type": "code",
      "source": [
        "# Create a numpy array Y\n",
        "\n",
        "Y = np.array([[2, 1], [1, 2]])\n",
        "Y"
      ],
      "metadata": {
        "trusted": true,
        "colab": {
          "base_uri": "https://localhost:8080/"
        },
        "id": "VlzkmQOBW5_Y",
        "outputId": "369a95db-dfff-465c-8158-e0d8da8c910f"
      },
      "outputs": [
        {
          "output_type": "execute_result",
          "data": {
            "text/plain": [
              "array([[2, 1],\n",
              "       [1, 2]])"
            ]
          },
          "metadata": {},
          "execution_count": 16
        }
      ],
      "execution_count": 16
    },
    {
      "cell_type": "code",
      "source": [
        "# Multiply Y with 2\n",
        "\n",
        "Z = 2 * Y\n",
        "Z"
      ],
      "metadata": {
        "trusted": true,
        "colab": {
          "base_uri": "https://localhost:8080/"
        },
        "id": "SV0C8IB-W5_Y",
        "outputId": "9d04b12f-f24e-4763-faa6-44e1128c561e"
      },
      "outputs": [
        {
          "output_type": "execute_result",
          "data": {
            "text/plain": [
              "array([[4, 2],\n",
              "       [2, 4]])"
            ]
          },
          "metadata": {},
          "execution_count": 17
        }
      ],
      "execution_count": 17
    },
    {
      "cell_type": "markdown",
      "source": [
        "Multiplication of two arrays corresponds to an element-wise product or <em>Hadamard product</em>. Consider matrix <code>X</code> and <code>Y</code>. The Hadamard product corresponds to multiplying each of the elements in the same position, i.e. multiplying elements contained in the same color boxes together. The result is a new matrix that is the same size as matrix <code>Y</code> or <code>X</code>, as shown in the following figure.\n"
      ],
      "metadata": {
        "id": "QkuJvmFFW5_Y"
      }
    },
    {
      "cell_type": "markdown",
      "source": [
        "<img src=\"https://cf-courses-data.s3.us.cloud-object-storage.appdomain.cloud/IBMDeveloperSkillsNetwork-PY0101EN-SkillsNetwork/labs/Module%205/images/NumTwoMul.png\" width=\"500\">\n"
      ],
      "metadata": {
        "id": "_WIjPwG4W5_Y"
      }
    },
    {
      "cell_type": "markdown",
      "source": [
        "We can perform element-wise product of the array <code>X</code> and <code>Y</code> as follows:\n"
      ],
      "metadata": {
        "id": "udO0G2EsW5_Y"
      }
    },
    {
      "cell_type": "code",
      "source": [
        "# Create a numpy array X\n",
        "\n",
        "X = np.array([[1, 0], [0, 1]])\n",
        "X"
      ],
      "metadata": {
        "trusted": true,
        "colab": {
          "base_uri": "https://localhost:8080/"
        },
        "id": "amBxjTY7W5_Z",
        "outputId": "c24345e6-a181-49dc-cdca-cb1c444bd2ba"
      },
      "outputs": [
        {
          "output_type": "execute_result",
          "data": {
            "text/plain": [
              "array([[1, 0],\n",
              "       [0, 1]])"
            ]
          },
          "metadata": {},
          "execution_count": 18
        }
      ],
      "execution_count": 18
    },
    {
      "cell_type": "code",
      "source": [
        "# Create a numpy array Y\n",
        "\n",
        "Y = np.array([[2, 1], [1, 2]])\n",
        "Y"
      ],
      "metadata": {
        "trusted": true,
        "colab": {
          "base_uri": "https://localhost:8080/"
        },
        "id": "dG5XDCxvW5_Z",
        "outputId": "88997127-81e3-4b7f-f57b-1498e4a01008"
      },
      "outputs": [
        {
          "output_type": "execute_result",
          "data": {
            "text/plain": [
              "array([[2, 1],\n",
              "       [1, 2]])"
            ]
          },
          "metadata": {},
          "execution_count": 19
        }
      ],
      "execution_count": 19
    },
    {
      "cell_type": "code",
      "source": [
        "# Multiply X with Y\n",
        "\n",
        "Z = X * Y\n",
        "Z"
      ],
      "metadata": {
        "trusted": true,
        "colab": {
          "base_uri": "https://localhost:8080/"
        },
        "id": "MuvibkTNW5_Z",
        "outputId": "562c1fc2-cba4-449d-c82a-aa73ea3cbbe7"
      },
      "outputs": [
        {
          "output_type": "execute_result",
          "data": {
            "text/plain": [
              "array([[2, 0],\n",
              "       [0, 2]])"
            ]
          },
          "metadata": {},
          "execution_count": 20
        }
      ],
      "execution_count": 20
    },
    {
      "cell_type": "markdown",
      "source": [
        "We can also perform matrix multiplication with the numpy arrays <code>A</code> and <code>B</code> as follows:\n"
      ],
      "metadata": {
        "id": "mggXjH30W5_a"
      }
    },
    {
      "cell_type": "markdown",
      "source": [
        "First, we define matrix <code>A</code> and <code>B</code>:\n"
      ],
      "metadata": {
        "id": "8N8-hpqUW5_a"
      }
    },
    {
      "cell_type": "code",
      "source": [
        "# Create a matrix A\n",
        "\n",
        "A = np.array([[0, 1, 1], [1, 0, 1]])\n",
        "A"
      ],
      "metadata": {
        "trusted": true,
        "colab": {
          "base_uri": "https://localhost:8080/"
        },
        "id": "4hex5Ju0W5_a",
        "outputId": "20fdd1d0-ba2c-4102-ebbf-52131a5e047d"
      },
      "outputs": [
        {
          "output_type": "execute_result",
          "data": {
            "text/plain": [
              "array([[0, 1, 1],\n",
              "       [1, 0, 1]])"
            ]
          },
          "metadata": {},
          "execution_count": 21
        }
      ],
      "execution_count": 21
    },
    {
      "cell_type": "code",
      "source": [
        "# Create a matrix B\n",
        "\n",
        "B = np.array([[1, 1], [1, 1], [-1, 1]])\n",
        "B"
      ],
      "metadata": {
        "trusted": true,
        "colab": {
          "base_uri": "https://localhost:8080/"
        },
        "id": "xMhZIHv3W5_a",
        "outputId": "a637bb3d-617f-40cd-a7b2-920689ebc6c8"
      },
      "outputs": [
        {
          "output_type": "execute_result",
          "data": {
            "text/plain": [
              "array([[ 1,  1],\n",
              "       [ 1,  1],\n",
              "       [-1,  1]])"
            ]
          },
          "metadata": {},
          "execution_count": 22
        }
      ],
      "execution_count": 22
    },
    {
      "cell_type": "markdown",
      "source": [
        "We use the numpy function <code>dot</code> to multiply the arrays together.\n"
      ],
      "metadata": {
        "id": "RAVTsOxhW5_b"
      }
    },
    {
      "cell_type": "code",
      "source": [
        "# Calculate the dot product\n",
        "\n",
        "Z = np.dot(A,B)\n",
        "Z"
      ],
      "metadata": {
        "trusted": true,
        "colab": {
          "base_uri": "https://localhost:8080/"
        },
        "id": "Vb4SbFWdW5_b",
        "outputId": "a33b0058-8e11-479a-b426-dcd78c0e32e3"
      },
      "outputs": [
        {
          "output_type": "execute_result",
          "data": {
            "text/plain": [
              "array([[0, 2],\n",
              "       [0, 2]])"
            ]
          },
          "metadata": {},
          "execution_count": 23
        }
      ],
      "execution_count": 23
    },
    {
      "cell_type": "code",
      "source": [
        "# Calculate the sine of Z\n",
        "\n",
        "np.sin(Z)"
      ],
      "metadata": {
        "trusted": true,
        "colab": {
          "base_uri": "https://localhost:8080/"
        },
        "id": "tQjL-TfWW5_b",
        "outputId": "6ca0d02c-1a50-4765-bf53-33da1e7d57a8"
      },
      "outputs": [
        {
          "output_type": "execute_result",
          "data": {
            "text/plain": [
              "array([[0.        , 0.90929743],\n",
              "       [0.        , 0.90929743]])"
            ]
          },
          "metadata": {},
          "execution_count": 24
        }
      ],
      "execution_count": 24
    },
    {
      "cell_type": "markdown",
      "source": [
        "We use the numpy attribute <code>T</code> to calculate the transposed matrix\n"
      ],
      "metadata": {
        "id": "EmQEFB2GW5_b"
      }
    },
    {
      "cell_type": "code",
      "source": [
        "# Create a matrix C\n",
        "\n",
        "C = np.array([[1,1],[2,2],[3,3]])\n",
        "C"
      ],
      "metadata": {
        "trusted": true,
        "colab": {
          "base_uri": "https://localhost:8080/"
        },
        "id": "QMNbbyLHW5_c",
        "outputId": "ac1eafba-e134-4c53-c9a0-b8b76f0713be"
      },
      "outputs": [
        {
          "output_type": "execute_result",
          "data": {
            "text/plain": [
              "array([[1, 1],\n",
              "       [2, 2],\n",
              "       [3, 3]])"
            ]
          },
          "metadata": {},
          "execution_count": 25
        }
      ],
      "execution_count": 25
    },
    {
      "cell_type": "code",
      "source": [
        "# Get the transposed of C\n",
        "\n",
        "C.T"
      ],
      "metadata": {
        "trusted": true,
        "colab": {
          "base_uri": "https://localhost:8080/"
        },
        "id": "Uiq3FtH3W5_c",
        "outputId": "fca99848-9001-4e17-81f6-e88ca26c5950"
      },
      "outputs": [
        {
          "output_type": "execute_result",
          "data": {
            "text/plain": [
              "array([[1, 2, 3],\n",
              "       [1, 2, 3]])"
            ]
          },
          "metadata": {},
          "execution_count": 26
        }
      ],
      "execution_count": 26
    },
    {
      "cell_type": "markdown",
      "source": [
        "<h2>Quiz on 2D Numpy Array</h2>\n"
      ],
      "metadata": {
        "id": "n6GwkTI4W5_c"
      }
    },
    {
      "cell_type": "markdown",
      "source": [
        "Consider the following list <code>a</code>, convert it to Numpy Array.\n"
      ],
      "metadata": {
        "id": "cqH6M6WyW5_d"
      }
    },
    {
      "cell_type": "code",
      "source": [
        "# Write your code below and press Shift+Enter to execute\n",
        "\n",
        "a = [[1, 2, 3, 4], [5, 6, 7, 8], [9, 10, 11, 12]]\n",
        "A = np.array(a)\n",
        "A"
      ],
      "metadata": {
        "trusted": true,
        "id": "gVjD92mwW5_d",
        "colab": {
          "base_uri": "https://localhost:8080/"
        },
        "outputId": "c17dc808-d0cc-4ad2-f798-28c15aaab490"
      },
      "outputs": [
        {
          "output_type": "execute_result",
          "data": {
            "text/plain": [
              "array([[ 1,  2,  3,  4],\n",
              "       [ 5,  6,  7,  8],\n",
              "       [ 9, 10, 11, 12]])"
            ]
          },
          "metadata": {},
          "execution_count": 28
        }
      ],
      "execution_count": 28
    },
    {
      "cell_type": "markdown",
      "source": [
        "<details><summary>Click here for the solution</summary>\n",
        "\n",
        "```python\n",
        "A = np.array(a)\n",
        "A\n",
        "```\n",
        "\n",
        "</details>\n"
      ],
      "metadata": {
        "id": "czv6hGVJW5_d"
      }
    },
    {
      "cell_type": "markdown",
      "source": [
        "Calculate the numpy array size.\n"
      ],
      "metadata": {
        "id": "1fhIlKxkW5_d"
      }
    },
    {
      "cell_type": "code",
      "source": [
        "# Write your code below and press Shift+Enter to execute\n",
        "A.size"
      ],
      "metadata": {
        "trusted": true,
        "id": "MpssFBoBW5_e",
        "colab": {
          "base_uri": "https://localhost:8080/"
        },
        "outputId": "55c1e326-c8e7-420d-f7b4-e26e8df96e95"
      },
      "outputs": [
        {
          "output_type": "execute_result",
          "data": {
            "text/plain": [
              "12"
            ]
          },
          "metadata": {},
          "execution_count": 29
        }
      ],
      "execution_count": 29
    },
    {
      "cell_type": "markdown",
      "source": [
        "<details><summary>Click here for the solution</summary>\n",
        "\n",
        "```python\n",
        "A.size\n",
        "```\n",
        "\n",
        "</details>\n"
      ],
      "metadata": {
        "id": "CxOsTn4yW5_e"
      }
    },
    {
      "cell_type": "markdown",
      "source": [
        "Access the element on the first row and first and second columns.\n"
      ],
      "metadata": {
        "id": "uVtgLt8aW5_e"
      }
    },
    {
      "cell_type": "code",
      "source": [
        "# Write your code below and press Shift+Enter to execute\n",
        "A[0][0:2]\n"
      ],
      "metadata": {
        "trusted": true,
        "id": "tO4YRZRLW5_f",
        "colab": {
          "base_uri": "https://localhost:8080/"
        },
        "outputId": "d22e5c71-d128-4c25-bdd5-2e1bab42591a"
      },
      "outputs": [
        {
          "output_type": "execute_result",
          "data": {
            "text/plain": [
              "array([1, 2])"
            ]
          },
          "metadata": {},
          "execution_count": 30
        }
      ],
      "execution_count": 30
    },
    {
      "cell_type": "markdown",
      "source": [
        "<details><summary>Click here for the solution</summary>\n",
        "\n",
        "```python\n",
        "A[0][0:2]\n",
        "```\n",
        "\n",
        "</details>\n"
      ],
      "metadata": {
        "id": "3KQxD8z2W5_f"
      }
    },
    {
      "cell_type": "markdown",
      "source": [
        "Perform matrix multiplication with the numpy arrays <code>A</code> and <code>B</code>.\n"
      ],
      "metadata": {
        "id": "sKuckQDaW5_f"
      }
    },
    {
      "cell_type": "code",
      "source": [
        "# Write your code below and press Shift+Enter to execute\n",
        "\n",
        "B = np.array([[0, 1], [1, 0], [1, 1], [-1, 0]])\n",
        "X = np.dot(A,B)\n",
        "X"
      ],
      "metadata": {
        "trusted": true,
        "id": "XyHCe2EEW5_f",
        "colab": {
          "base_uri": "https://localhost:8080/"
        },
        "outputId": "93506340-2edf-486d-bb65-f39338144e73"
      },
      "outputs": [
        {
          "output_type": "execute_result",
          "data": {
            "text/plain": [
              "array([[ 1,  4],\n",
              "       [ 5, 12],\n",
              "       [ 9, 20]])"
            ]
          },
          "metadata": {},
          "execution_count": 31
        }
      ],
      "execution_count": 31
    },
    {
      "cell_type": "markdown",
      "source": [
        "<details><summary>Click here for the solution</summary>\n",
        "\n",
        "```python\n",
        "X = np.dot(A,B)\n",
        "X\n",
        "```\n",
        "\n",
        "</details>\n"
      ],
      "metadata": {
        "id": "7nyh55T5W5_h"
      }
    },
    {
      "cell_type": "markdown",
      "source": [
        "<hr>\n",
        "<h2>The last exercise!</h2>\n",
        "<p>Congratulations, you have completed your first lesson and hands-on lab in Python.\n",
        "<hr>\n"
      ],
      "metadata": {
        "id": "U4NOMIhTW5_h"
      }
    },
    {
      "cell_type": "code",
      "source": [],
      "metadata": {
        "trusted": true,
        "id": "CyBTg5geW5_i"
      },
      "outputs": [],
      "execution_count": null
    }
  ]
}